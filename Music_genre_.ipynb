{
  "cells": [
    {
      "cell_type": "code",
      "source": [
        "# !wget \"https://www.dropbox.com/s/4jw31k5mlzcmgis/genres.tar.gz?\"\n",
        "# !tar xvf \"/content/genres.tar.gz?\" -C \"/content/\""
      ],
      "metadata": {
        "id": "f6rRE-pKjhZJ"
      },
      "execution_count": 13,
      "outputs": []
    },
    {
      "cell_type": "code",
      "source": [
        "from sklearn.model_selection import train_test_split\n",
        "from sklearn.preprocessing import LabelEncoder\n",
        "from sklearn.preprocessing import StandardScaler\n",
        "from keras.models import Sequential\n",
        "import matplotlib.pyplot as plt\n",
        "from tensorflow import keras\n",
        "from librosa import feature\n",
        "import tensorflow as tf\n",
        "from glob import glob\n",
        "import pandas as pd\n",
        "import numpy as np\n",
        "import librosa\n",
        "import csv\n",
        "\n",
        "import shutup\n",
        "shutup.please()"
      ],
      "metadata": {
        "id": "r4nvueUlideT"
      },
      "execution_count": 14,
      "outputs": []
    },
    {
      "cell_type": "markdown",
      "source": [
        "Feature Extraction from Audio data and saving them in their respective .csv 📁 file 🔉"
      ],
      "metadata": {
        "id": "nOoCZNlWAkgv"
      }
    },
    {
      "cell_type": "code",
      "source": [
        "genre = ['blues', 'classical', 'country', 'disco', 'hiphop', 'jazz', 'metal', 'pop', 'reggae', 'rock']\n",
        "\n",
        "header =[\n",
        "  'chroma_stft',\n",
        "  'spectral_centroid',\n",
        "  'spectral_bandwidth',\n",
        "  'spectral_rolloff',\n",
        "  \n",
        "  'chroma_stft_var',\n",
        "  'spectral_centroid_var',\n",
        "  'spectral_bandwidth_var',\n",
        "  'spectral_rolloff_var',\n",
        "  \n",
        "  'rmse',\n",
        "  'zero_crossing_rate',\n",
        "  'librosa.feature.spectral_contrast',\n",
        "  'librosa.feature.spectral_flatness',\n",
        "  'librosa.feature.mfcc',\n",
        "\n",
        "  'rmse_var',\n",
        "  'zero_crossing_rate_var',\n",
        "  'librosa.feature.spectral_contrast_var',\n",
        "  'librosa.feature.spectral_flatness_var',\n",
        "  'librosa.feature.mfcc_var'\n",
        "  ]\n",
        "\n",
        "fn_list_i = [\n",
        "            feature.chroma_stft, feature.spectral_centroid,\n",
        "            feature.spectral_bandwidth, feature.spectral_rolloff\n",
        "            ]\n",
        "\n",
        "fn_list_ii = [librosa.feature.rms,\n",
        "              feature.zero_crossing_rate,\n",
        "              librosa.feature.spectral_contrast,\n",
        "              librosa.feature.spectral_flatness,\n",
        "              librosa.feature.mfcc]\n",
        "  \n",
        "\n",
        "def get_feature_vector(y,sr): \n",
        "    feat_vect_i = [ np.mean(funct(y,sr)) for funct in fn_list_i]\n",
        "    feat_vect_i_var = [ np.var(funct(y,sr)) for funct in fn_list_i]\n",
        "\n",
        "    feat_vect_ii = [np.mean(funct(y)) for funct in fn_list_ii]\n",
        "    feat_vect_ii_var = [np.var(funct(y)) for funct in fn_list_ii]\n",
        "\n",
        "    feature_vector = feat_vect_i + feat_vect_i_var + feat_vect_ii + feat_vect_ii_var \n",
        "    return feature_vector\n",
        "\n",
        "for nowvar in genre:\n",
        "\n",
        "  norm_data_dir = '/content/genres/'+nowvar+'/'\n",
        "  norm_audio_files = glob(norm_data_dir + '*.au')\n",
        "\n",
        "  norm_audios_feat = []\n",
        "  for file in norm_audio_files:\n",
        "    y , sr = librosa.load(file, sr=None)\n",
        "    feature_vector = get_feature_vector(y, sr)\n",
        "    norm_audios_feat.append(feature_vector)\n",
        "\n",
        "  norm_output = nowvar+'.csv'\n",
        "\n",
        "  with open(norm_output,'+w') as f:\n",
        "    csv_writer = csv.writer(f, delimiter = ',')\n",
        "    csv_writer.writerow(header)\n",
        "    csv_writer.writerows(norm_audios_feat)"
      ],
      "metadata": {
        "id": "8JC01selYKcd"
      },
      "execution_count": null,
      "outputs": []
    },
    {
      "cell_type": "markdown",
      "source": [
        "Reading .csv file and adding a new column type ✔"
      ],
      "metadata": {
        "id": "YyJnDYWhUdU9"
      }
    },
    {
      "cell_type": "code",
      "source": [
        "blues = pd.read_csv(\"/content/blues.csv\")\n",
        "classical = pd.read_csv(\"/content/classical.csv\")\n",
        "country = pd.read_csv(\"/content/country.csv\")\n",
        "disco = pd.read_csv(\"/content/disco.csv\")\n",
        "hiphop = pd.read_csv(\"/content/hiphop.csv\")\n",
        "jazz = pd.read_csv(\"/content/jazz.csv\")\n",
        "metal = pd.read_csv(\"/content/metal.csv\")\n",
        "pop = pd.read_csv(\"/content/pop.csv\")\n",
        "reggae = pd.read_csv(\"/content/reggae.csv\")\n",
        "rock = pd.read_csv(\"/content/rock.csv\")\n",
        "\n",
        "blues['label'] = 'blues'\n",
        "classical['label'] = 'classical'\n",
        "country['label'] = 'country'\n",
        "disco['label'] = 'disco'\n",
        "hiphop['label'] = 'hiphop'\n",
        "jazz['label'] = 'jazz'\n",
        "metal['label'] = 'metal'\n",
        "pop['label'] = 'pop'\n",
        "reggae['label'] = 'reggae'\n",
        "rock['label'] = 'rock'"
      ],
      "metadata": {
        "id": "uxS2u3A6l361"
      },
      "execution_count": null,
      "outputs": []
    },
    {
      "cell_type": "markdown",
      "source": [
        "Creating The Main Dataframe for training our Model 🚩"
      ],
      "metadata": {
        "id": "1M3nm17t-BMX"
      }
    },
    {
      "cell_type": "code",
      "source": [
        "final_df = pd.DataFrame(columns = rock.columns)"
      ],
      "metadata": {
        "id": "tCnKrertrfBx"
      },
      "execution_count": null,
      "outputs": []
    },
    {
      "cell_type": "code",
      "source": [
        "genres = [blues, \n",
        "          classical, \n",
        "          country, \n",
        "          disco, \n",
        "          hiphop, \n",
        "          jazz,\n",
        "          metal, \n",
        "          pop,\n",
        "          reggae,\n",
        "          rock]\n",
        "\n",
        "final_df = pd.concat(genres)"
      ],
      "metadata": {
        "id": "PccaQurutNH8"
      },
      "execution_count": null,
      "outputs": []
    },
    {
      "cell_type": "code",
      "source": [
        "final_df.shape"
      ],
      "metadata": {
        "id": "vr_JSRreCnfD"
      },
      "execution_count": null,
      "outputs": []
    },
    {
      "cell_type": "code",
      "source": [
        "final_df.sample(20)"
      ],
      "metadata": {
        "id": "RFSsBZYht_0W"
      },
      "execution_count": null,
      "outputs": []
    },
    {
      "cell_type": "markdown",
      "source": [
        "Encoding labels of Target column ✈"
      ],
      "metadata": {
        "id": "0ffqCPpM-jJa"
      }
    },
    {
      "cell_type": "code",
      "source": [
        "convertor = LabelEncoder()\n",
        "class_list = final_df.iloc[:,-1]\n",
        "y = convertor.fit_transform(class_list)"
      ],
      "metadata": {
        "id": "qsi1Ww0ExiHK"
      },
      "execution_count": null,
      "outputs": []
    },
    {
      "cell_type": "markdown",
      "source": [
        "Fitting Rest of the columns in StanderdScaler (Using fit_transform for that)"
      ],
      "metadata": {
        "id": "8E1RL8E5-_-n"
      }
    },
    {
      "cell_type": "code",
      "source": [
        "fit = StandardScaler()\n",
        "X = fit.fit_transform(np.array(final_df.iloc[:,:-1], dtype = float))"
      ],
      "metadata": {
        "id": "zFydlLhfx6cM"
      },
      "execution_count": null,
      "outputs": []
    },
    {
      "cell_type": "markdown",
      "source": [
        "Splitting Our Dataset for Training (x_train & y_train) and Testing (y_train & y_test)"
      ],
      "metadata": {
        "id": "Uop8XExG_loN"
      }
    },
    {
      "cell_type": "code",
      "source": [
        "x_train, x_test, y_train, y_test = train_test_split(X, y, test_size=0.33)"
      ],
      "metadata": {
        "id": "2LQbA1CTyGbh"
      },
      "execution_count": null,
      "outputs": []
    },
    {
      "cell_type": "markdown",
      "source": [
        "Creating TrainModel Function for training our RNN model."
      ],
      "metadata": {
        "id": "prVwkKGA_3fC"
      }
    },
    {
      "cell_type": "code",
      "source": [
        "def trainModel (model, epochs, optimizer, verbose):\n",
        "  batch_size = 128\n",
        "\n",
        "  model.compile(optimizer,\n",
        "                loss='sparse_categorical_crossentropy',\n",
        "                metrics='accuracy')\n",
        "\n",
        "  return model.fit(x_train, y_train,\n",
        "                 validation_data=(x_test, y_test),\n",
        "                 epochs=epochs, batch_size=batch_size, verbose=verbose)"
      ],
      "metadata": {
        "id": "SBMqToRryLgS"
      },
      "execution_count": null,
      "outputs": []
    },
    {
      "cell_type": "markdown",
      "source": [
        "Our Sequential Model ⚖"
      ],
      "metadata": {
        "id": "HYVl2OjiAKP2"
      }
    },
    {
      "cell_type": "code",
      "source": [
        "model = keras.models.Sequential([\n",
        "                             keras.layers.Dense(512, activation='relu', input_shape=(x_train.shape[1],)),\n",
        "                             keras.layers.Dropout(0.2),\n",
        "\n",
        "                             keras.layers.Dense(256, activation='relu'),\n",
        "                             keras.layers.Dropout(0.2),\n",
        "\n",
        "                             keras.layers.Dense(128, activation='relu'),\n",
        "                             keras.layers.Dropout(0.2),\n",
        "\n",
        "                             keras.layers.Dense(64, activation='relu'),\n",
        "                             keras.layers.Dropout(0.2),\n",
        "\n",
        "                             keras.layers.Flatten(),\n",
        "                             keras.layers.Dense(10, activation='softmax')\n",
        "                          ])\n",
        "print(model.summary())\n",
        "model_history = trainModel(model=model, epochs=600, optimizer='adam', verbose=0)"
      ],
      "metadata": {
        "id": "KUPjF4ikzNbT"
      },
      "execution_count": null,
      "outputs": []
    },
    {
      "cell_type": "code",
      "source": [
        "test_loss, test_acc = model.evaluate(x_test, y_test, batch_size=128)\n",
        "print (f\"\\nThe test loss is : {round(test_loss, 2)}\")\n",
        "print(f\"The best test accuracy is : {round(test_acc*100, 2)}%\")"
      ],
      "metadata": {
        "id": "UV7ntOxK6izc"
      },
      "execution_count": null,
      "outputs": []
    },
    {
      "cell_type": "code",
      "source": [
        "model.summary()"
      ],
      "metadata": {
        "id": "NpVF7TOCN7c9"
      },
      "execution_count": null,
      "outputs": []
    },
    {
      "cell_type": "code",
      "source": [
        "def makeAudio_to_Data (path):\n",
        "\n",
        "  norm_audios_feat = []\n",
        "\n",
        "  y , sr = librosa.load(file, sr=None)\n",
        "  feature_vector = get_feature_vector(y, sr)\n",
        "  norm_audios_feat.append(feature_vector)\n",
        "\n",
        "  newDataframe = pd.DataFrame(norm_audios_feat, columns=header)\n",
        "\n",
        "  fit2 = StandardScaler()\n",
        "  numpyArray = fit2.fit_transform(np.array(final_df.iloc[:,:], dtype = float))\n",
        "\n",
        "  return numpyArray, newDataframe\n",
        "\n",
        "data = makeAudio_to_Data ('/content/POP SMOKE - DIOR (OFFICIAL VIDEO).mp3')\n"
      ],
      "metadata": {
        "id": "MLHArnyWQSEK"
      },
      "execution_count": null,
      "outputs": []
    }
  ],
  "metadata": {
    "interpreter": {
      "hash": "1baa965d5efe3ac65b79dfc60c0d706280b1da80fedb7760faf2759126c4f253"
    },
    "kernelspec": {
      "display_name": "Python 3.8.1 64-bit",
      "language": "python",
      "name": "python3"
    },
    "language_info": {
      "codemirror_mode": {
        "name": "ipython",
        "version": 3
      },
      "file_extension": ".py",
      "mimetype": "text/x-python",
      "name": "python",
      "nbconvert_exporter": "python",
      "pygments_lexer": "ipython3",
      "version": "3.8.1"
    },
    "orig_nbformat": 4,
    "colab": {
      "name": "Music_genre_.ipynb",
      "provenance": []
    }
  },
  "nbformat": 4,
  "nbformat_minor": 0
}