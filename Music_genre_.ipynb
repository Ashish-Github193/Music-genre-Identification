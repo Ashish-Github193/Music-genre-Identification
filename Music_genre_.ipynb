{
  "cells": [
    {
      "cell_type": "code",
      "source": [
        "# ! git clone https://github.com/Angeluz-07/audio-processing-files.git\n",
        "# ! ls"
      ],
      "metadata": {
        "id": "-TjvPwg0X5AW"
      },
      "execution_count": 86,
      "outputs": []
    },
    {
      "cell_type": "code",
      "source": [
        "# !wget \"https://www.dropbox.com/s/4jw31k5mlzcmgis/genres.tar.gz?\"\n",
        "# !tar xvf \"/content/genres.tar.gz?\" -C \"/content/\""
      ],
      "metadata": {
        "id": "f6rRE-pKjhZJ"
      },
      "execution_count": null,
      "outputs": []
    },
    {
      "cell_type": "code",
      "source": [
        "import pandas as pd\n",
        "from sklearn.model_selection import train_test_split\n",
        "from sklearn.preprocessing import LabelEncoder\n",
        "from sklearn.preprocessing import StandardScaler"
      ],
      "metadata": {
        "id": "r4nvueUlideT"
      },
      "execution_count": 218,
      "outputs": []
    },
    {
      "cell_type": "code",
      "source": [
        "# from glob import glob\n",
        "\n",
        "# #directories of normal audios\n",
        "# nowvar = \"rock\"\n",
        "# norm_data_dir = '/content/genres/'+nowvar+'/'\n",
        "# norm_audio_files = glob(norm_data_dir + '*.au')"
      ],
      "metadata": {
        "id": "d1R4iREWYFcr"
      },
      "execution_count": 153,
      "outputs": []
    },
    {
      "cell_type": "code",
      "source": [
        "# import librosa\n",
        "# from librosa import feature\n",
        "# import numpy as np\n",
        "\n",
        "# fn_list_i = [\n",
        "#              feature.chroma_stft, feature.spectral_centroid,\n",
        "#              feature.spectral_bandwidth, feature.spectral_rolloff\n",
        "#             ]\n",
        "\n",
        "# fn_list_ii = [librosa.feature.rms, feature.zero_crossing_rate]\n",
        "\n",
        "# def get_feature_vector(y,sr): \n",
        "#    feat_vect_i = [ np.mean(funct(y,sr)) for funct in fn_list_i]\n",
        "#    feat_vect_ii = [np.mean(funct(y)) for funct in fn_list_ii] \n",
        "#    feature_vector = feat_vect_i + feat_vect_ii \n",
        "#    return feature_vector"
      ],
      "metadata": {
        "id": "8JC01selYKcd"
      },
      "execution_count": 154,
      "outputs": []
    },
    {
      "cell_type": "code",
      "source": [
        "# norm_audios_feat = []\n",
        "# for file in norm_audio_files:\n",
        "#    y , sr = librosa.load(file, sr=None)\n",
        "#    feature_vector = get_feature_vector(y, sr)\n",
        "#    norm_audios_feat.append(feature_vector) "
      ],
      "metadata": {
        "id": "jSgvD0GpYGGd"
      },
      "execution_count": 155,
      "outputs": []
    },
    {
      "cell_type": "code",
      "source": [
        "# import csv\n",
        "# norm_output = nowvar+'.csv'\n",
        "# header =[\n",
        "#  'chroma_stft',\n",
        "#  'spectral_centroid',\n",
        "#  'spectral_bandwidth',\n",
        "#  'spectral_rolloff',\n",
        "#  'rmse',\n",
        "#  'zero_crossing_rate'\n",
        "# ]\n",
        "# with open(norm_output,'+w') as f:\n",
        "#  csv_writer = csv.writer(f, delimiter = ',')\n",
        "#  csv_writer.writerow(header)\n",
        "#  csv_writer.writerows(norm_audios_feat)"
      ],
      "metadata": {
        "id": "RJWT4-6bZy7w"
      },
      "execution_count": 156,
      "outputs": []
    },
    {
      "cell_type": "code",
      "source": [
        "blues = pd.read_csv(\"/content/blues.csv\")\n",
        "classical = pd.read_csv(\"/content/classical.csv\")\n",
        "country = pd.read_csv(\"/content/country.csv\")\n",
        "disco = pd.read_csv(\"/content/disco.csv\")\n",
        "hiphop = pd.read_csv(\"/content/hiphop.csv\")\n",
        "jazz = pd.read_csv(\"/content/jazz.csv\")\n",
        "metal = pd.read_csv(\"/content/metal.csv\")\n",
        "pop = pd.read_csv(\"/content/pop.csv\")\n",
        "reggae = pd.read_csv(\"/content/reggae.csv\")\n",
        "rock = pd.read_csv(\"/content/rock.csv\")"
      ],
      "metadata": {
        "id": "uxS2u3A6l361"
      },
      "execution_count": 221,
      "outputs": []
    },
    {
      "cell_type": "code",
      "source": [
        "final_df = pd.DataFrame(columns = rock.columns)"
      ],
      "metadata": {
        "id": "tCnKrertrfBx"
      },
      "execution_count": 188,
      "outputs": []
    },
    {
      "cell_type": "code",
      "source": [
        "genres = [blues, \n",
        "          classical, \n",
        "          country, \n",
        "          disco, \n",
        "          hiphop, \n",
        "          jazz,\n",
        "          metal, \n",
        "          pop,\n",
        "          reggae,\n",
        "          rock]\n",
        "\n",
        "final_df = pd.concat(genres)"
      ],
      "metadata": {
        "id": "PccaQurutNH8"
      },
      "execution_count": 192,
      "outputs": []
    },
    {
      "cell_type": "code",
      "source": [
        "final_df.sample(20)"
      ],
      "metadata": {
        "id": "RFSsBZYht_0W"
      },
      "execution_count": 205,
      "outputs": []
    },
    {
      "cell_type": "code",
      "source": [
        "convertor = LabelEncoder()\n",
        "class_list = final_df.iloc[:,-1]\n",
        "y = convertor.fit_transform(class_list)"
      ],
      "metadata": {
        "id": "qsi1Ww0ExiHK"
      },
      "execution_count": 213,
      "outputs": []
    },
    {
      "cell_type": "code",
      "source": [
        "fit = StandardScaler()\n",
        "X = fit.fit_transform(np.array(final_df.iloc[:,1:-1], dtype = float))"
      ],
      "metadata": {
        "id": "zFydlLhfx6cM"
      },
      "execution_count": 219,
      "outputs": []
    },
    {
      "cell_type": "code",
      "source": [
        "x_train, x_test, y_train, y_test = train_test_split(X, y, test_size=0.33)"
      ],
      "metadata": {
        "id": "2LQbA1CTyGbh"
      },
      "execution_count": 220,
      "outputs": []
    },
    {
      "cell_type": "code",
      "source": [
        ""
      ],
      "metadata": {
        "id": "SBMqToRryLgS"
      },
      "execution_count": null,
      "outputs": []
    }
  ],
  "metadata": {
    "interpreter": {
      "hash": "1baa965d5efe3ac65b79dfc60c0d706280b1da80fedb7760faf2759126c4f253"
    },
    "kernelspec": {
      "display_name": "Python 3.8.1 64-bit",
      "language": "python",
      "name": "python3"
    },
    "language_info": {
      "codemirror_mode": {
        "name": "ipython",
        "version": 3
      },
      "file_extension": ".py",
      "mimetype": "text/x-python",
      "name": "python",
      "nbconvert_exporter": "python",
      "pygments_lexer": "ipython3",
      "version": "3.8.1"
    },
    "orig_nbformat": 4,
    "colab": {
      "name": "Music_genre_.ipynb",
      "provenance": []
    }
  },
  "nbformat": 4,
  "nbformat_minor": 0
}