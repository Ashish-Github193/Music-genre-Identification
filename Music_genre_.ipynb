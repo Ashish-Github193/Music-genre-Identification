{
  "cells": [
    {
      "cell_type": "code",
      "source": [
        "!wget \"https://www.dropbox.com/s/4jw31k5mlzcmgis/genres.tar.gz?\"\n",
        "!tar xvf \"/content/genres.tar.gz?\" -C \"/content/\""
      ],
      "metadata": {
        "id": "f6rRE-pKjhZJ"
      },
      "execution_count": null,
      "outputs": []
    },
    {
      "cell_type": "code",
      "source": [
        "!pip install shutup\n",
        "from google.colab import drive\n",
        "drive.mount(\"/content/drive\")"
      ],
      "metadata": {
        "id": "g74zgPkPl4LQ"
      },
      "execution_count": null,
      "outputs": []
    },
    {
      "cell_type": "code",
      "source": [
        "from sklearn.model_selection import train_test_split\n",
        "from sklearn.preprocessing import LabelEncoder\n",
        "from sklearn.preprocessing import StandardScaler\n",
        "import tensorflow as tf\n",
        "import matplotlib.pyplot as plt\n",
        "from tensorflow import keras\n",
        "from librosa import feature\n",
        "from glob import glob\n",
        "import pandas as pd\n",
        "import numpy as np\n",
        "import librosa\n",
        "import csv\n",
        "import scipy\n",
        "import shutup\n",
        "import os\n",
        "import shutil\n",
        "shutup.please()"
      ],
      "metadata": {
        "id": "r4nvueUlideT"
      },
      "execution_count": 22,
      "outputs": []
    },
    {
      "cell_type": "markdown",
      "source": [
        "Feature Extraction from Audio data and saving them in their respective .csv 📁 file 🔉"
      ],
      "metadata": {
        "id": "nOoCZNlWAkgv"
      }
    },
    {
      "cell_type": "code",
      "source": [
        "genre = ['blues', 'classical', 'country', 'disco', 'hiphop', 'jazz', 'metal', 'pop', 'reggae', 'rock']"
      ],
      "metadata": {
        "id": "8JC01selYKcd"
      },
      "execution_count": 23,
      "outputs": []
    },
    {
      "cell_type": "code",
      "source": [
        "def GenerateFeatures (path_to_file):\n",
        "  audio = librosa.util.example_audio_file() \n",
        "  y,sr=librosa.load(path_to_file)\n",
        "\n",
        "  y_harmonic, y_percussive = librosa.effects.hpss(y)\n",
        "  tempo, beat_frames = librosa.beat.beat_track(y=y_harmonic, sr=sr)\n",
        "\n",
        "  chroma=librosa.feature.chroma_cens(y=y_harmonic, sr=sr)\n",
        "  mfccs = librosa.feature.mfcc(y=y_harmonic, sr=sr, n_mfcc=13)\n",
        "  cent = librosa.feature.spectral_centroid(y=y, sr=sr)\n",
        "  contrast=librosa.feature.spectral_contrast(y=y_harmonic,sr=sr)\n",
        "  rolloff = librosa.feature.spectral_rolloff(y=y, sr=sr)\n",
        "  zrate=librosa.feature.zero_crossing_rate(y_harmonic)\n",
        "\n",
        "  chroma_mean=np.mean(chroma,axis=1)\n",
        "  chroma_std=np.std(chroma,axis=1)\n",
        "  chroma_df=pd.DataFrame()\n",
        "  for i in range(0,12):\n",
        "      chroma_df['chroma_mean_'+str(i)]=chroma_mean[i]\n",
        "  for i in range(0,12):\n",
        "      chroma_df['chroma_std_'+str(i)]=chroma_mean[i]\n",
        "  chroma_df.loc[0]=np.concatenate((chroma_mean,chroma_std),axis=0)\n",
        "\n",
        "  mfccs_mean=np.mean(mfccs,axis=1)\n",
        "  mfccs_std=np.std(mfccs,axis=1)\n",
        "  mfccs_df=pd.DataFrame()\n",
        "  for i in range(0,13):\n",
        "      mfccs_df['mfccs_mean_'+str(i)]=mfccs_mean[i]\n",
        "  for i in range(0,13):\n",
        "     mfccs_df['mfccs_std_'+str(i)]=mfccs_mean[i]\n",
        "  mfccs_df.loc[0]=np.concatenate((mfccs_mean,mfccs_std),axis=0)\n",
        "\n",
        "  cent_mean=np.mean(cent)\n",
        "  cent_std=np.std(cent)\n",
        "  cent_skew=scipy.stats.skew(cent,axis=1)[0]\n",
        "  contrast_mean=np.mean(contrast,axis=1)\n",
        "  contrast_std=np.std(contrast,axis=1)  \n",
        "\n",
        "  rolloff_mean=np.mean(rolloff)\n",
        "  rolloff_std=np.std(rolloff)\n",
        "  rolloff_skew=scipy.stats.skew(rolloff,axis=1)[0]\n",
        "\n",
        "  spectral_df=pd.DataFrame()\n",
        "  collist=['cent_mean','cent_std','cent_skew']\n",
        "  for i in range(0,7):\n",
        "      collist.append('contrast_mean_'+str(i))\n",
        "  for i in range(0,7):\n",
        "      collist.append('contrast_std_'+str(i))\n",
        "  collist=collist+['rolloff_mean','rolloff_std','rolloff_skew']\n",
        "  for c in collist:\n",
        "      spectral_df[c]=0\n",
        "  data=np.concatenate(([cent_mean,cent_std,cent_skew],contrast_mean,contrast_std,[rolloff_mean,rolloff_std,rolloff_std]),axis=0)\n",
        "  spectral_df.loc[0]=data\n",
        "\n",
        "  zrate_mean=np.mean(zrate)\n",
        "  zrate_std=np.std(zrate)\n",
        "  zrate_skew=scipy.stats.skew(zrate,axis=1)[0]\n",
        "\n",
        "  zrate_df=pd.DataFrame()\n",
        "  zrate_df['zrate_mean']=0\n",
        "  zrate_df['zrate_std']=0\n",
        "  zrate_df['zrate_skew']=0\n",
        "  zrate_df.loc[0]=[zrate_mean,zrate_std,zrate_skew]\n",
        "\n",
        "  beat_df=pd.DataFrame()\n",
        "  beat_df['tempo']=tempo\n",
        "  beat_df.loc[0]=tempo\n",
        "\n",
        "  final_df=pd.concat((chroma_df,mfccs_df,spectral_df,zrate_df,beat_df),axis=1)\n",
        "\n",
        "  return final_df"
      ],
      "metadata": {
        "id": "iDBvhI9Y_t4Y"
      },
      "execution_count": 24,
      "outputs": []
    },
    {
      "cell_type": "code",
      "source": [
        "GenerateFeatures('/content/genres/blues/blues.00000.au').columns"
      ],
      "metadata": {
        "id": "tcABama4GCNe",
        "outputId": "a1139622-a31b-4ab7-997f-48149399440d",
        "colab": {
          "base_uri": "https://localhost:8080/"
        }
      },
      "execution_count": 25,
      "outputs": [
        {
          "output_type": "execute_result",
          "data": {
            "text/plain": [
              "Index(['chroma_mean_0', 'chroma_mean_1', 'chroma_mean_2', 'chroma_mean_3',\n",
              "       'chroma_mean_4', 'chroma_mean_5', 'chroma_mean_6', 'chroma_mean_7',\n",
              "       'chroma_mean_8', 'chroma_mean_9', 'chroma_mean_10', 'chroma_mean_11',\n",
              "       'chroma_std_0', 'chroma_std_1', 'chroma_std_2', 'chroma_std_3',\n",
              "       'chroma_std_4', 'chroma_std_5', 'chroma_std_6', 'chroma_std_7',\n",
              "       'chroma_std_8', 'chroma_std_9', 'chroma_std_10', 'chroma_std_11',\n",
              "       'mfccs_mean_0', 'mfccs_mean_1', 'mfccs_mean_2', 'mfccs_mean_3',\n",
              "       'mfccs_mean_4', 'mfccs_mean_5', 'mfccs_mean_6', 'mfccs_mean_7',\n",
              "       'mfccs_mean_8', 'mfccs_mean_9', 'mfccs_mean_10', 'mfccs_mean_11',\n",
              "       'mfccs_mean_12', 'mfccs_std_0', 'mfccs_std_1', 'mfccs_std_2',\n",
              "       'mfccs_std_3', 'mfccs_std_4', 'mfccs_std_5', 'mfccs_std_6',\n",
              "       'mfccs_std_7', 'mfccs_std_8', 'mfccs_std_9', 'mfccs_std_10',\n",
              "       'mfccs_std_11', 'mfccs_std_12', 'cent_mean', 'cent_std', 'cent_skew',\n",
              "       'contrast_mean_0', 'contrast_mean_1', 'contrast_mean_2',\n",
              "       'contrast_mean_3', 'contrast_mean_4', 'contrast_mean_5',\n",
              "       'contrast_mean_6', 'contrast_std_0', 'contrast_std_1', 'contrast_std_2',\n",
              "       'contrast_std_3', 'contrast_std_4', 'contrast_std_5', 'contrast_std_6',\n",
              "       'rolloff_mean', 'rolloff_std', 'rolloff_skew', 'zrate_mean',\n",
              "       'zrate_std', 'zrate_skew', 'tempo'],\n",
              "      dtype='object')"
            ]
          },
          "metadata": {},
          "execution_count": 25
        }
      ]
    },
    {
      "cell_type": "code",
      "source": [
        "dir = '/content/genres/'\n",
        "columns = ['chroma_mean_0', 'chroma_mean_1', 'chroma_mean_2', 'chroma_mean_3',\n",
        "       'chroma_mean_4', 'chroma_mean_5', 'chroma_mean_6', 'chroma_mean_7',\n",
        "       'chroma_mean_8', 'chroma_mean_9', 'chroma_mean_10', 'chroma_mean_11',\n",
        "       'chroma_std_0', 'chroma_std_1', 'chroma_std_2', 'chroma_std_3',\n",
        "       'chroma_std_4', 'chroma_std_5', 'chroma_std_6', 'chroma_std_7',\n",
        "       'chroma_std_8', 'chroma_std_9', 'chroma_std_10', 'chroma_std_11',\n",
        "       'mfccs_mean_0', 'mfccs_mean_1', 'mfccs_mean_2', 'mfccs_mean_3',\n",
        "       'mfccs_mean_4', 'mfccs_mean_5', 'mfccs_mean_6', 'mfccs_mean_7',\n",
        "       'mfccs_mean_8', 'mfccs_mean_9', 'mfccs_mean_10', 'mfccs_mean_11',\n",
        "       'mfccs_mean_12', 'mfccs_std_0', 'mfccs_std_1', 'mfccs_std_2',\n",
        "       'mfccs_std_3', 'mfccs_std_4', 'mfccs_std_5', 'mfccs_std_6',\n",
        "       'mfccs_std_7', 'mfccs_std_8', 'mfccs_std_9', 'mfccs_std_10',\n",
        "       'mfccs_std_11', 'mfccs_std_12', 'cent_mean', 'cent_std', 'cent_skew',\n",
        "       'contrast_mean_0', 'contrast_mean_1', 'contrast_mean_2',\n",
        "       'contrast_mean_3', 'contrast_mean_4', 'contrast_mean_5',\n",
        "       'contrast_mean_6', 'contrast_std_0', 'contrast_std_1', 'contrast_std_2',\n",
        "       'contrast_std_3', 'contrast_std_4', 'contrast_std_5', 'contrast_std_6',\n",
        "       'rolloff_mean', 'rolloff_std', 'rolloff_skew', 'zrate_mean',\n",
        "       'zrate_std', 'zrate_skew', 'tempo']\n",
        "\n",
        "for gen in genre:\n",
        "  print (f\"Current gen: {gen}\")\n",
        "  path = dir + gen\n",
        "\n",
        "  files = os.listdir(path+'/')\n",
        "  GenreFrame = pd.DataFrame(columns=columns)\n",
        "\n",
        "  for clip in files:\n",
        "    clip_path = dir + gen + '/' + clip\n",
        "\n",
        "    print(f'Extracting features from {clip_path}')\n",
        "    clipDataFrame = GenerateFeatures(clip_path)\n",
        "    clipDataFrame['label'] = gen\n",
        "  \n",
        "    GenreFrame = pd.concat((GenreFrame, clipDataFrame), axis=0)\n",
        "\n",
        "  GenreFrame.to_csv('/content/' + gen + '.csv')\n",
        "  print(f'Label: {gen} saved at /content/{gen}.csv\\n\\n\\n\\n')\n",
        "  shutil.copy (f\"/content/{gen}.csv\", f\"/content/drive/MyDrive/IITK DL datasets/{gen}.csv\")\n"
      ],
      "metadata": {
        "id": "lMZGjEgSBQhV"
      },
      "execution_count": null,
      "outputs": []
    },
    {
      "cell_type": "markdown",
      "source": [
        "Reading .csv file and adding a new column type ✔"
      ],
      "metadata": {
        "id": "YyJnDYWhUdU9"
      }
    },
    {
      "cell_type": "code",
      "source": [
        "blues = pd.read_csv(\"/content/blues.csv\")\n",
        "classical = pd.read_csv(\"/content/classical.csv\")\n",
        "country = pd.read_csv(\"/content/country.csv\")\n",
        "disco = pd.read_csv(\"/content/disco.csv\")\n",
        "hiphop = pd.read_csv(\"/content/hiphop.csv\")\n",
        "jazz = pd.read_csv(\"/content/jazz.csv\")\n",
        "metal = pd.read_csv(\"/content/metal.csv\")\n",
        "pop = pd.read_csv(\"/content/pop.csv\")\n",
        "reggae = pd.read_csv(\"/content/reggae.csv\")\n",
        "rock = pd.read_csv(\"/content/rock.csv\")\n",
        "\n",
        "blues.drop([\"Unnamed: 0\"], inplace=True, axis=1)\n",
        "classical.drop([\"Unnamed: 0\"], inplace=True, axis=1)\n",
        "country.drop([\"Unnamed: 0\"], inplace=True, axis=1)\n",
        "disco.drop([\"Unnamed: 0\"], inplace=True, axis=1)\n",
        "hiphop.drop([\"Unnamed: 0\"], inplace=True, axis=1)\n",
        "jazz.drop([\"Unnamed: 0\"], inplace=True, axis=1)\n",
        "metal.drop([\"Unnamed: 0\"], inplace=True, axis=1)\n",
        "pop.drop([\"Unnamed: 0\"], inplace=True, axis=1)\n",
        "reggae.drop([\"Unnamed: 0\"], inplace=True, axis=1)\n",
        "rock.drop([\"Unnamed: 0\"], inplace=True, axis=1)\n",
        "\n",
        "blues['label'] = 'blues'\n",
        "classical['label'] = 'classical'\n",
        "country['label'] = 'country'\n",
        "disco['label'] = 'disco'\n",
        "hiphop['label'] = 'hiphop'\n",
        "jazz['label'] = 'jazz'\n",
        "metal['label'] = 'metal'\n",
        "pop['label'] = 'pop'\n",
        "reggae['label'] = 'reggae'\n",
        "rock['label'] = 'rock'"
      ],
      "metadata": {
        "id": "uxS2u3A6l361"
      },
      "execution_count": 34,
      "outputs": []
    },
    {
      "cell_type": "code",
      "source": [
        "blues.head(10)"
      ],
      "metadata": {
        "id": "QYt22IwIpQdt"
      },
      "execution_count": null,
      "outputs": []
    },
    {
      "cell_type": "markdown",
      "source": [
        "Creating The Main Dataframe for training our Model 🚩"
      ],
      "metadata": {
        "id": "1M3nm17t-BMX"
      }
    },
    {
      "cell_type": "code",
      "source": [
        "final_df = pd.DataFrame(columns = rock.columns)"
      ],
      "metadata": {
        "id": "tCnKrertrfBx"
      },
      "execution_count": 29,
      "outputs": []
    },
    {
      "cell_type": "code",
      "source": [
        "genres = [blues, \n",
        "          classical, \n",
        "          country, \n",
        "          disco, \n",
        "          hiphop, \n",
        "          jazz,\n",
        "          metal, \n",
        "          pop,\n",
        "          reggae,\n",
        "          rock]\n",
        "\n",
        "final_df = pd.concat(genres)"
      ],
      "metadata": {
        "id": "PccaQurutNH8"
      },
      "execution_count": 30,
      "outputs": []
    },
    {
      "cell_type": "code",
      "source": [
        "final_df.drop([\"Unnamed: 0\"], inplace=True, axis=1)"
      ],
      "metadata": {
        "id": "vr_JSRreCnfD"
      },
      "execution_count": 49,
      "outputs": []
    },
    {
      "cell_type": "code",
      "source": [
        "final_df.shape"
      ],
      "metadata": {
        "id": "RFSsBZYht_0W",
        "colab": {
          "base_uri": "https://localhost:8080/"
        },
        "outputId": "3e4248a1-e5f8-4c52-96fc-e04de471cb76"
      },
      "execution_count": 50,
      "outputs": [
        {
          "output_type": "execute_result",
          "data": {
            "text/plain": [
              "(1000, 75)"
            ]
          },
          "metadata": {},
          "execution_count": 50
        }
      ]
    },
    {
      "cell_type": "markdown",
      "source": [
        "Encoding labels of Target column ✈"
      ],
      "metadata": {
        "id": "0ffqCPpM-jJa"
      }
    },
    {
      "cell_type": "code",
      "source": [
        "convertor = LabelEncoder()\n",
        "class_list = final_df.iloc[:,-1]\n",
        "y = convertor.fit_transform(class_list)"
      ],
      "metadata": {
        "id": "qsi1Ww0ExiHK"
      },
      "execution_count": 51,
      "outputs": []
    },
    {
      "cell_type": "markdown",
      "source": [
        "Fitting Rest of the columns in StanderdScaler (Using fit_transform for that)"
      ],
      "metadata": {
        "id": "8E1RL8E5-_-n"
      }
    },
    {
      "cell_type": "code",
      "source": [
        "fit = StandardScaler()\n",
        "X = fit.fit_transform(np.array(final_df.iloc[:,:-1], dtype = float))"
      ],
      "metadata": {
        "id": "zFydlLhfx6cM"
      },
      "execution_count": 52,
      "outputs": []
    },
    {
      "cell_type": "markdown",
      "source": [
        "Splitting Our Dataset for Training (x_train & y_train) and Testing (y_train & y_test)"
      ],
      "metadata": {
        "id": "Uop8XExG_loN"
      }
    },
    {
      "cell_type": "code",
      "source": [
        "x_train, x_test, y_train, y_test = train_test_split(X, y, random_state=1, test_size=0.33)"
      ],
      "metadata": {
        "id": "2LQbA1CTyGbh"
      },
      "execution_count": 53,
      "outputs": []
    },
    {
      "cell_type": "markdown",
      "source": [
        "Creating TrainModel Function for training our RNN model."
      ],
      "metadata": {
        "id": "prVwkKGA_3fC"
      }
    },
    {
      "cell_type": "code",
      "source": [
        "def trainModel (model, epochs, optimizer, verbose):\n",
        "  batch_size = 128\n",
        "\n",
        "  model.compile(optimizer,\n",
        "                loss='sparse_categorical_crossentropy',\n",
        "                metrics='accuracy')\n",
        "\n",
        "  return model.fit(x_train, y_train,\n",
        "                 validation_data=(x_test, y_test),\n",
        "                 epochs=epochs, batch_size=batch_size, verbose=verbose)"
      ],
      "metadata": {
        "id": "SBMqToRryLgS"
      },
      "execution_count": 54,
      "outputs": []
    },
    {
      "cell_type": "markdown",
      "source": [
        "Our Sequential Model ⚖"
      ],
      "metadata": {
        "id": "HYVl2OjiAKP2"
      }
    },
    {
      "cell_type": "code",
      "source": [
        "model = keras.models.Sequential([\n",
        "                             keras.layers.Dense(512, activation='relu', input_shape=(x_train.shape[1],)),\n",
        "                             keras.layers.Dropout(0.2),\n",
        "\n",
        "                             keras.layers.Dense(256, activation='relu'),\n",
        "                             keras.layers.Dropout(0.2),\n",
        "\n",
        "                             keras.layers.Dense(128, activation='relu'),\n",
        "                             keras.layers.Dropout(0.2),\n",
        "\n",
        "                             keras.layers.Dense(64, activation='relu'),\n",
        "                             keras.layers.Dropout(0.2),\n",
        "\n",
        "                             keras.layers.Flatten(),\n",
        "                             keras.layers.Dense(10, activation='softmax')\n",
        "                          ])\n",
        "print(model.summary())\n",
        "model_history = trainModel(model=model, epochs=150, optimizer='adam', verbose=2)"
      ],
      "metadata": {
        "id": "KUPjF4ikzNbT",
        "colab": {
          "base_uri": "https://localhost:8080/"
        },
        "outputId": "b06f0d61-9820-423e-c591-ae0b8bb6d2f2"
      },
      "execution_count": 55,
      "outputs": [
        {
          "output_type": "stream",
          "name": "stdout",
          "text": [
            "Model: \"sequential_3\"\n",
            "_________________________________________________________________\n",
            " Layer (type)                Output Shape              Param #   \n",
            "=================================================================\n",
            " dense_15 (Dense)            (None, 512)               38400     \n",
            "                                                                 \n",
            " dropout_12 (Dropout)        (None, 512)               0         \n",
            "                                                                 \n",
            " dense_16 (Dense)            (None, 256)               131328    \n",
            "                                                                 \n",
            " dropout_13 (Dropout)        (None, 256)               0         \n",
            "                                                                 \n",
            " dense_17 (Dense)            (None, 128)               32896     \n",
            "                                                                 \n",
            " dropout_14 (Dropout)        (None, 128)               0         \n",
            "                                                                 \n",
            " dense_18 (Dense)            (None, 64)                8256      \n",
            "                                                                 \n",
            " dropout_15 (Dropout)        (None, 64)                0         \n",
            "                                                                 \n",
            " flatten_3 (Flatten)         (None, 64)                0         \n",
            "                                                                 \n",
            " dense_19 (Dense)            (None, 10)                650       \n",
            "                                                                 \n",
            "=================================================================\n",
            "Total params: 211,530\n",
            "Trainable params: 211,530\n",
            "Non-trainable params: 0\n",
            "_________________________________________________________________\n",
            "None\n",
            "Epoch 1/150\n",
            "6/6 - 1s - loss: 2.2932 - accuracy: 0.1597 - val_loss: 2.0991 - val_accuracy: 0.2848 - 832ms/epoch - 139ms/step\n",
            "Epoch 2/150\n",
            "6/6 - 0s - loss: 2.0259 - accuracy: 0.3030 - val_loss: 1.8763 - val_accuracy: 0.3273 - 67ms/epoch - 11ms/step\n",
            "Epoch 3/150\n",
            "6/6 - 0s - loss: 1.8269 - accuracy: 0.3597 - val_loss: 1.6780 - val_accuracy: 0.3758 - 62ms/epoch - 10ms/step\n",
            "Epoch 4/150\n",
            "6/6 - 0s - loss: 1.6681 - accuracy: 0.4224 - val_loss: 1.4611 - val_accuracy: 0.5000 - 47ms/epoch - 8ms/step\n",
            "Epoch 5/150\n",
            "6/6 - 0s - loss: 1.4774 - accuracy: 0.4925 - val_loss: 1.3046 - val_accuracy: 0.5212 - 47ms/epoch - 8ms/step\n",
            "Epoch 6/150\n",
            "6/6 - 0s - loss: 1.3038 - accuracy: 0.5567 - val_loss: 1.2445 - val_accuracy: 0.5212 - 74ms/epoch - 12ms/step\n",
            "Epoch 7/150\n",
            "6/6 - 0s - loss: 1.1795 - accuracy: 0.5910 - val_loss: 1.1438 - val_accuracy: 0.5818 - 51ms/epoch - 8ms/step\n",
            "Epoch 8/150\n",
            "6/6 - 0s - loss: 1.0311 - accuracy: 0.6567 - val_loss: 1.1009 - val_accuracy: 0.6212 - 63ms/epoch - 11ms/step\n",
            "Epoch 9/150\n",
            "6/6 - 0s - loss: 0.9551 - accuracy: 0.6776 - val_loss: 1.0734 - val_accuracy: 0.6394 - 48ms/epoch - 8ms/step\n",
            "Epoch 10/150\n",
            "6/6 - 0s - loss: 0.8728 - accuracy: 0.6970 - val_loss: 1.0267 - val_accuracy: 0.6485 - 53ms/epoch - 9ms/step\n",
            "Epoch 11/150\n",
            "6/6 - 0s - loss: 0.7749 - accuracy: 0.7433 - val_loss: 0.9467 - val_accuracy: 0.6697 - 61ms/epoch - 10ms/step\n",
            "Epoch 12/150\n",
            "6/6 - 0s - loss: 0.6831 - accuracy: 0.7731 - val_loss: 0.9855 - val_accuracy: 0.6818 - 51ms/epoch - 8ms/step\n",
            "Epoch 13/150\n",
            "6/6 - 0s - loss: 0.6322 - accuracy: 0.7881 - val_loss: 0.9676 - val_accuracy: 0.6879 - 65ms/epoch - 11ms/step\n",
            "Epoch 14/150\n",
            "6/6 - 0s - loss: 0.6120 - accuracy: 0.8015 - val_loss: 0.9773 - val_accuracy: 0.6939 - 74ms/epoch - 12ms/step\n",
            "Epoch 15/150\n",
            "6/6 - 0s - loss: 0.5306 - accuracy: 0.8119 - val_loss: 0.9833 - val_accuracy: 0.6727 - 48ms/epoch - 8ms/step\n",
            "Epoch 16/150\n",
            "6/6 - 0s - loss: 0.4972 - accuracy: 0.8388 - val_loss: 0.9605 - val_accuracy: 0.6818 - 49ms/epoch - 8ms/step\n",
            "Epoch 17/150\n",
            "6/6 - 0s - loss: 0.4178 - accuracy: 0.8731 - val_loss: 0.9726 - val_accuracy: 0.6879 - 48ms/epoch - 8ms/step\n",
            "Epoch 18/150\n",
            "6/6 - 0s - loss: 0.4053 - accuracy: 0.8687 - val_loss: 1.0612 - val_accuracy: 0.6818 - 64ms/epoch - 11ms/step\n",
            "Epoch 19/150\n",
            "6/6 - 0s - loss: 0.3848 - accuracy: 0.8761 - val_loss: 0.9918 - val_accuracy: 0.6879 - 67ms/epoch - 11ms/step\n",
            "Epoch 20/150\n",
            "6/6 - 0s - loss: 0.3444 - accuracy: 0.8970 - val_loss: 1.0087 - val_accuracy: 0.6970 - 51ms/epoch - 8ms/step\n",
            "Epoch 21/150\n",
            "6/6 - 0s - loss: 0.2898 - accuracy: 0.9060 - val_loss: 1.0501 - val_accuracy: 0.6909 - 68ms/epoch - 11ms/step\n",
            "Epoch 22/150\n",
            "6/6 - 0s - loss: 0.2665 - accuracy: 0.9030 - val_loss: 1.0574 - val_accuracy: 0.7061 - 52ms/epoch - 9ms/step\n",
            "Epoch 23/150\n",
            "6/6 - 0s - loss: 0.2349 - accuracy: 0.9254 - val_loss: 1.1006 - val_accuracy: 0.7030 - 51ms/epoch - 8ms/step\n",
            "Epoch 24/150\n",
            "6/6 - 0s - loss: 0.2649 - accuracy: 0.9224 - val_loss: 1.1115 - val_accuracy: 0.7121 - 51ms/epoch - 9ms/step\n",
            "Epoch 25/150\n",
            "6/6 - 0s - loss: 0.2170 - accuracy: 0.9313 - val_loss: 1.0761 - val_accuracy: 0.7121 - 61ms/epoch - 10ms/step\n",
            "Epoch 26/150\n",
            "6/6 - 0s - loss: 0.2166 - accuracy: 0.9313 - val_loss: 1.0733 - val_accuracy: 0.7030 - 51ms/epoch - 9ms/step\n",
            "Epoch 27/150\n",
            "6/6 - 0s - loss: 0.1770 - accuracy: 0.9448 - val_loss: 1.0401 - val_accuracy: 0.7091 - 50ms/epoch - 8ms/step\n",
            "Epoch 28/150\n",
            "6/6 - 0s - loss: 0.1755 - accuracy: 0.9418 - val_loss: 1.0549 - val_accuracy: 0.7182 - 61ms/epoch - 10ms/step\n",
            "Epoch 29/150\n",
            "6/6 - 0s - loss: 0.1630 - accuracy: 0.9463 - val_loss: 1.0663 - val_accuracy: 0.7364 - 49ms/epoch - 8ms/step\n",
            "Epoch 30/150\n",
            "6/6 - 0s - loss: 0.1526 - accuracy: 0.9597 - val_loss: 1.1336 - val_accuracy: 0.7182 - 50ms/epoch - 8ms/step\n",
            "Epoch 31/150\n",
            "6/6 - 0s - loss: 0.1395 - accuracy: 0.9657 - val_loss: 1.1809 - val_accuracy: 0.7030 - 57ms/epoch - 9ms/step\n",
            "Epoch 32/150\n",
            "6/6 - 0s - loss: 0.1518 - accuracy: 0.9493 - val_loss: 1.1556 - val_accuracy: 0.7000 - 67ms/epoch - 11ms/step\n",
            "Epoch 33/150\n",
            "6/6 - 0s - loss: 0.1271 - accuracy: 0.9582 - val_loss: 1.2138 - val_accuracy: 0.7152 - 61ms/epoch - 10ms/step\n",
            "Epoch 34/150\n",
            "6/6 - 0s - loss: 0.1123 - accuracy: 0.9687 - val_loss: 1.1897 - val_accuracy: 0.7394 - 60ms/epoch - 10ms/step\n",
            "Epoch 35/150\n",
            "6/6 - 0s - loss: 0.1145 - accuracy: 0.9642 - val_loss: 1.2009 - val_accuracy: 0.7182 - 61ms/epoch - 10ms/step\n",
            "Epoch 36/150\n",
            "6/6 - 0s - loss: 0.1048 - accuracy: 0.9642 - val_loss: 1.2561 - val_accuracy: 0.7091 - 66ms/epoch - 11ms/step\n",
            "Epoch 37/150\n",
            "6/6 - 0s - loss: 0.0892 - accuracy: 0.9716 - val_loss: 1.3045 - val_accuracy: 0.6939 - 48ms/epoch - 8ms/step\n",
            "Epoch 38/150\n",
            "6/6 - 0s - loss: 0.0918 - accuracy: 0.9657 - val_loss: 1.2725 - val_accuracy: 0.7061 - 52ms/epoch - 9ms/step\n",
            "Epoch 39/150\n",
            "6/6 - 0s - loss: 0.0807 - accuracy: 0.9821 - val_loss: 1.3617 - val_accuracy: 0.6818 - 47ms/epoch - 8ms/step\n",
            "Epoch 40/150\n",
            "6/6 - 0s - loss: 0.1154 - accuracy: 0.9627 - val_loss: 1.3752 - val_accuracy: 0.6879 - 48ms/epoch - 8ms/step\n",
            "Epoch 41/150\n",
            "6/6 - 0s - loss: 0.0617 - accuracy: 0.9851 - val_loss: 1.3429 - val_accuracy: 0.6939 - 66ms/epoch - 11ms/step\n",
            "Epoch 42/150\n",
            "6/6 - 0s - loss: 0.0745 - accuracy: 0.9776 - val_loss: 1.2992 - val_accuracy: 0.7182 - 70ms/epoch - 12ms/step\n",
            "Epoch 43/150\n",
            "6/6 - 0s - loss: 0.0643 - accuracy: 0.9851 - val_loss: 1.3328 - val_accuracy: 0.6939 - 49ms/epoch - 8ms/step\n",
            "Epoch 44/150\n",
            "6/6 - 0s - loss: 0.0581 - accuracy: 0.9806 - val_loss: 1.3544 - val_accuracy: 0.6879 - 60ms/epoch - 10ms/step\n",
            "Epoch 45/150\n",
            "6/6 - 0s - loss: 0.0406 - accuracy: 0.9910 - val_loss: 1.3489 - val_accuracy: 0.7121 - 50ms/epoch - 8ms/step\n",
            "Epoch 46/150\n",
            "6/6 - 0s - loss: 0.0532 - accuracy: 0.9806 - val_loss: 1.3699 - val_accuracy: 0.7091 - 61ms/epoch - 10ms/step\n",
            "Epoch 47/150\n",
            "6/6 - 0s - loss: 0.0409 - accuracy: 0.9910 - val_loss: 1.3784 - val_accuracy: 0.7182 - 65ms/epoch - 11ms/step\n",
            "Epoch 48/150\n",
            "6/6 - 0s - loss: 0.0530 - accuracy: 0.9821 - val_loss: 1.3824 - val_accuracy: 0.7152 - 52ms/epoch - 9ms/step\n",
            "Epoch 49/150\n",
            "6/6 - 0s - loss: 0.0440 - accuracy: 0.9881 - val_loss: 1.4178 - val_accuracy: 0.7030 - 63ms/epoch - 10ms/step\n",
            "Epoch 50/150\n",
            "6/6 - 0s - loss: 0.0399 - accuracy: 0.9896 - val_loss: 1.4538 - val_accuracy: 0.6970 - 50ms/epoch - 8ms/step\n",
            "Epoch 51/150\n",
            "6/6 - 0s - loss: 0.0464 - accuracy: 0.9836 - val_loss: 1.4386 - val_accuracy: 0.7030 - 51ms/epoch - 9ms/step\n",
            "Epoch 52/150\n",
            "6/6 - 0s - loss: 0.0382 - accuracy: 0.9851 - val_loss: 1.4080 - val_accuracy: 0.7182 - 71ms/epoch - 12ms/step\n",
            "Epoch 53/150\n",
            "6/6 - 0s - loss: 0.0416 - accuracy: 0.9866 - val_loss: 1.4453 - val_accuracy: 0.7212 - 49ms/epoch - 8ms/step\n",
            "Epoch 54/150\n",
            "6/6 - 0s - loss: 0.0294 - accuracy: 0.9910 - val_loss: 1.4366 - val_accuracy: 0.7242 - 62ms/epoch - 10ms/step\n",
            "Epoch 55/150\n",
            "6/6 - 0s - loss: 0.0381 - accuracy: 0.9866 - val_loss: 1.4035 - val_accuracy: 0.7212 - 70ms/epoch - 12ms/step\n",
            "Epoch 56/150\n",
            "6/6 - 0s - loss: 0.0376 - accuracy: 0.9851 - val_loss: 1.4159 - val_accuracy: 0.7152 - 48ms/epoch - 8ms/step\n",
            "Epoch 57/150\n",
            "6/6 - 0s - loss: 0.0351 - accuracy: 0.9881 - val_loss: 1.4151 - val_accuracy: 0.7212 - 51ms/epoch - 8ms/step\n",
            "Epoch 58/150\n",
            "6/6 - 0s - loss: 0.0334 - accuracy: 0.9910 - val_loss: 1.4175 - val_accuracy: 0.7182 - 51ms/epoch - 9ms/step\n",
            "Epoch 59/150\n",
            "6/6 - 0s - loss: 0.0458 - accuracy: 0.9881 - val_loss: 1.4039 - val_accuracy: 0.7303 - 63ms/epoch - 10ms/step\n",
            "Epoch 60/150\n",
            "6/6 - 0s - loss: 0.0326 - accuracy: 0.9940 - val_loss: 1.4556 - val_accuracy: 0.7152 - 49ms/epoch - 8ms/step\n",
            "Epoch 61/150\n",
            "6/6 - 0s - loss: 0.0290 - accuracy: 0.9925 - val_loss: 1.5301 - val_accuracy: 0.7152 - 52ms/epoch - 9ms/step\n",
            "Epoch 62/150\n",
            "6/6 - 0s - loss: 0.0243 - accuracy: 0.9940 - val_loss: 1.5696 - val_accuracy: 0.7242 - 62ms/epoch - 10ms/step\n",
            "Epoch 63/150\n",
            "6/6 - 0s - loss: 0.0370 - accuracy: 0.9866 - val_loss: 1.5806 - val_accuracy: 0.7030 - 64ms/epoch - 11ms/step\n",
            "Epoch 64/150\n",
            "6/6 - 0s - loss: 0.0402 - accuracy: 0.9896 - val_loss: 1.5652 - val_accuracy: 0.7061 - 47ms/epoch - 8ms/step\n",
            "Epoch 65/150\n",
            "6/6 - 0s - loss: 0.0262 - accuracy: 0.9925 - val_loss: 1.5492 - val_accuracy: 0.7152 - 49ms/epoch - 8ms/step\n",
            "Epoch 66/150\n",
            "6/6 - 0s - loss: 0.0438 - accuracy: 0.9896 - val_loss: 1.5147 - val_accuracy: 0.7000 - 63ms/epoch - 10ms/step\n",
            "Epoch 67/150\n",
            "6/6 - 0s - loss: 0.0278 - accuracy: 0.9925 - val_loss: 1.5186 - val_accuracy: 0.7000 - 49ms/epoch - 8ms/step\n",
            "Epoch 68/150\n",
            "6/6 - 0s - loss: 0.0127 - accuracy: 1.0000 - val_loss: 1.5258 - val_accuracy: 0.7061 - 62ms/epoch - 10ms/step\n",
            "Epoch 69/150\n",
            "6/6 - 0s - loss: 0.0212 - accuracy: 0.9940 - val_loss: 1.5194 - val_accuracy: 0.7091 - 64ms/epoch - 11ms/step\n",
            "Epoch 70/150\n",
            "6/6 - 0s - loss: 0.0218 - accuracy: 0.9940 - val_loss: 1.5260 - val_accuracy: 0.7152 - 54ms/epoch - 9ms/step\n",
            "Epoch 71/150\n",
            "6/6 - 0s - loss: 0.0167 - accuracy: 0.9955 - val_loss: 1.5465 - val_accuracy: 0.7152 - 59ms/epoch - 10ms/step\n",
            "Epoch 72/150\n",
            "6/6 - 0s - loss: 0.0109 - accuracy: 0.9985 - val_loss: 1.5546 - val_accuracy: 0.7182 - 65ms/epoch - 11ms/step\n",
            "Epoch 73/150\n",
            "6/6 - 0s - loss: 0.0187 - accuracy: 0.9985 - val_loss: 1.5508 - val_accuracy: 0.7121 - 50ms/epoch - 8ms/step\n",
            "Epoch 74/150\n",
            "6/6 - 0s - loss: 0.0266 - accuracy: 0.9925 - val_loss: 1.5777 - val_accuracy: 0.7212 - 48ms/epoch - 8ms/step\n",
            "Epoch 75/150\n",
            "6/6 - 0s - loss: 0.0269 - accuracy: 0.9955 - val_loss: 1.6215 - val_accuracy: 0.7091 - 50ms/epoch - 8ms/step\n",
            "Epoch 76/150\n",
            "6/6 - 0s - loss: 0.0118 - accuracy: 0.9985 - val_loss: 1.6577 - val_accuracy: 0.7152 - 67ms/epoch - 11ms/step\n",
            "Epoch 77/150\n",
            "6/6 - 0s - loss: 0.0206 - accuracy: 0.9940 - val_loss: 1.6296 - val_accuracy: 0.7182 - 65ms/epoch - 11ms/step\n",
            "Epoch 78/150\n",
            "6/6 - 0s - loss: 0.0103 - accuracy: 0.9985 - val_loss: 1.6151 - val_accuracy: 0.7121 - 63ms/epoch - 10ms/step\n",
            "Epoch 79/150\n",
            "6/6 - 0s - loss: 0.0272 - accuracy: 0.9940 - val_loss: 1.6018 - val_accuracy: 0.7091 - 68ms/epoch - 11ms/step\n",
            "Epoch 80/150\n",
            "6/6 - 0s - loss: 0.0121 - accuracy: 0.9985 - val_loss: 1.6094 - val_accuracy: 0.7152 - 72ms/epoch - 12ms/step\n",
            "Epoch 81/150\n",
            "6/6 - 0s - loss: 0.0184 - accuracy: 0.9940 - val_loss: 1.5938 - val_accuracy: 0.7212 - 63ms/epoch - 11ms/step\n",
            "Epoch 82/150\n",
            "6/6 - 0s - loss: 0.0225 - accuracy: 0.9955 - val_loss: 1.6227 - val_accuracy: 0.7182 - 65ms/epoch - 11ms/step\n",
            "Epoch 83/150\n",
            "6/6 - 0s - loss: 0.0207 - accuracy: 0.9910 - val_loss: 1.6274 - val_accuracy: 0.7152 - 49ms/epoch - 8ms/step\n",
            "Epoch 84/150\n",
            "6/6 - 0s - loss: 0.0103 - accuracy: 0.9985 - val_loss: 1.7121 - val_accuracy: 0.7182 - 65ms/epoch - 11ms/step\n",
            "Epoch 85/150\n",
            "6/6 - 0s - loss: 0.0185 - accuracy: 0.9955 - val_loss: 1.7901 - val_accuracy: 0.7121 - 70ms/epoch - 12ms/step\n",
            "Epoch 86/150\n",
            "6/6 - 0s - loss: 0.0192 - accuracy: 0.9940 - val_loss: 1.7719 - val_accuracy: 0.7000 - 65ms/epoch - 11ms/step\n",
            "Epoch 87/150\n",
            "6/6 - 0s - loss: 0.0373 - accuracy: 0.9910 - val_loss: 1.7648 - val_accuracy: 0.7152 - 49ms/epoch - 8ms/step\n",
            "Epoch 88/150\n",
            "6/6 - 0s - loss: 0.0595 - accuracy: 0.9836 - val_loss: 1.8309 - val_accuracy: 0.7061 - 51ms/epoch - 9ms/step\n",
            "Epoch 89/150\n",
            "6/6 - 0s - loss: 0.0334 - accuracy: 0.9851 - val_loss: 1.8882 - val_accuracy: 0.6909 - 63ms/epoch - 11ms/step\n",
            "Epoch 90/150\n",
            "6/6 - 0s - loss: 0.0327 - accuracy: 0.9881 - val_loss: 1.8328 - val_accuracy: 0.7182 - 52ms/epoch - 9ms/step\n",
            "Epoch 91/150\n",
            "6/6 - 0s - loss: 0.0259 - accuracy: 0.9925 - val_loss: 1.8541 - val_accuracy: 0.7061 - 61ms/epoch - 10ms/step\n",
            "Epoch 92/150\n",
            "6/6 - 0s - loss: 0.0390 - accuracy: 0.9896 - val_loss: 1.7739 - val_accuracy: 0.6970 - 51ms/epoch - 9ms/step\n",
            "Epoch 93/150\n",
            "6/6 - 0s - loss: 0.0477 - accuracy: 0.9836 - val_loss: 1.6978 - val_accuracy: 0.7030 - 63ms/epoch - 11ms/step\n",
            "Epoch 94/150\n",
            "6/6 - 0s - loss: 0.0484 - accuracy: 0.9851 - val_loss: 1.6854 - val_accuracy: 0.6939 - 48ms/epoch - 8ms/step\n",
            "Epoch 95/150\n",
            "6/6 - 0s - loss: 0.0272 - accuracy: 0.9940 - val_loss: 1.7825 - val_accuracy: 0.6909 - 56ms/epoch - 9ms/step\n",
            "Epoch 96/150\n",
            "6/6 - 0s - loss: 0.0516 - accuracy: 0.9836 - val_loss: 1.6015 - val_accuracy: 0.6758 - 54ms/epoch - 9ms/step\n",
            "Epoch 97/150\n",
            "6/6 - 0s - loss: 0.0176 - accuracy: 0.9925 - val_loss: 1.6608 - val_accuracy: 0.6697 - 50ms/epoch - 8ms/step\n",
            "Epoch 98/150\n",
            "6/6 - 0s - loss: 0.0198 - accuracy: 0.9985 - val_loss: 1.5926 - val_accuracy: 0.6970 - 51ms/epoch - 8ms/step\n",
            "Epoch 99/150\n",
            "6/6 - 0s - loss: 0.0186 - accuracy: 0.9940 - val_loss: 1.6309 - val_accuracy: 0.6970 - 51ms/epoch - 9ms/step\n",
            "Epoch 100/150\n",
            "6/6 - 0s - loss: 0.0228 - accuracy: 0.9925 - val_loss: 1.6463 - val_accuracy: 0.7000 - 65ms/epoch - 11ms/step\n",
            "Epoch 101/150\n",
            "6/6 - 0s - loss: 0.0274 - accuracy: 0.9925 - val_loss: 1.5973 - val_accuracy: 0.7121 - 51ms/epoch - 9ms/step\n",
            "Epoch 102/150\n",
            "6/6 - 0s - loss: 0.0228 - accuracy: 0.9910 - val_loss: 1.5975 - val_accuracy: 0.7091 - 50ms/epoch - 8ms/step\n",
            "Epoch 103/150\n",
            "6/6 - 0s - loss: 0.0103 - accuracy: 0.9985 - val_loss: 1.6368 - val_accuracy: 0.7212 - 55ms/epoch - 9ms/step\n",
            "Epoch 104/150\n",
            "6/6 - 0s - loss: 0.0224 - accuracy: 0.9925 - val_loss: 1.5885 - val_accuracy: 0.7152 - 61ms/epoch - 10ms/step\n",
            "Epoch 105/150\n",
            "6/6 - 0s - loss: 0.0159 - accuracy: 0.9940 - val_loss: 1.6908 - val_accuracy: 0.7212 - 49ms/epoch - 8ms/step\n",
            "Epoch 106/150\n",
            "6/6 - 0s - loss: 0.0211 - accuracy: 0.9940 - val_loss: 1.6625 - val_accuracy: 0.7212 - 53ms/epoch - 9ms/step\n",
            "Epoch 107/150\n",
            "6/6 - 0s - loss: 0.0154 - accuracy: 0.9970 - val_loss: 1.5898 - val_accuracy: 0.7152 - 52ms/epoch - 9ms/step\n",
            "Epoch 108/150\n",
            "6/6 - 0s - loss: 0.0148 - accuracy: 0.9955 - val_loss: 1.6093 - val_accuracy: 0.7152 - 67ms/epoch - 11ms/step\n",
            "Epoch 109/150\n",
            "6/6 - 0s - loss: 0.0175 - accuracy: 0.9910 - val_loss: 1.6378 - val_accuracy: 0.7212 - 52ms/epoch - 9ms/step\n",
            "Epoch 110/150\n",
            "6/6 - 0s - loss: 0.0124 - accuracy: 1.0000 - val_loss: 1.7076 - val_accuracy: 0.7061 - 54ms/epoch - 9ms/step\n",
            "Epoch 111/150\n",
            "6/6 - 0s - loss: 0.0108 - accuracy: 0.9970 - val_loss: 1.6937 - val_accuracy: 0.7121 - 64ms/epoch - 11ms/step\n",
            "Epoch 112/150\n",
            "6/6 - 0s - loss: 0.0150 - accuracy: 0.9955 - val_loss: 1.6513 - val_accuracy: 0.7121 - 61ms/epoch - 10ms/step\n",
            "Epoch 113/150\n",
            "6/6 - 0s - loss: 0.0329 - accuracy: 0.9866 - val_loss: 1.7567 - val_accuracy: 0.7182 - 60ms/epoch - 10ms/step\n",
            "Epoch 114/150\n",
            "6/6 - 0s - loss: 0.0282 - accuracy: 0.9925 - val_loss: 1.9064 - val_accuracy: 0.6939 - 65ms/epoch - 11ms/step\n",
            "Epoch 115/150\n",
            "6/6 - 0s - loss: 0.0539 - accuracy: 0.9836 - val_loss: 1.6832 - val_accuracy: 0.7121 - 48ms/epoch - 8ms/step\n",
            "Epoch 116/150\n",
            "6/6 - 0s - loss: 0.0333 - accuracy: 0.9925 - val_loss: 1.7019 - val_accuracy: 0.7121 - 64ms/epoch - 11ms/step\n",
            "Epoch 117/150\n",
            "6/6 - 0s - loss: 0.0224 - accuracy: 0.9970 - val_loss: 1.5989 - val_accuracy: 0.7182 - 65ms/epoch - 11ms/step\n",
            "Epoch 118/150\n",
            "6/6 - 0s - loss: 0.0087 - accuracy: 0.9985 - val_loss: 1.6723 - val_accuracy: 0.7091 - 55ms/epoch - 9ms/step\n",
            "Epoch 119/150\n",
            "6/6 - 0s - loss: 0.0321 - accuracy: 0.9881 - val_loss: 1.6982 - val_accuracy: 0.7152 - 53ms/epoch - 9ms/step\n",
            "Epoch 120/150\n",
            "6/6 - 0s - loss: 0.0141 - accuracy: 0.9955 - val_loss: 1.6995 - val_accuracy: 0.7212 - 64ms/epoch - 11ms/step\n",
            "Epoch 121/150\n",
            "6/6 - 0s - loss: 0.0146 - accuracy: 0.9940 - val_loss: 1.7140 - val_accuracy: 0.7182 - 53ms/epoch - 9ms/step\n",
            "Epoch 122/150\n",
            "6/6 - 0s - loss: 0.0112 - accuracy: 0.9955 - val_loss: 1.7218 - val_accuracy: 0.7182 - 65ms/epoch - 11ms/step\n",
            "Epoch 123/150\n",
            "6/6 - 0s - loss: 0.0103 - accuracy: 0.9970 - val_loss: 1.7324 - val_accuracy: 0.7091 - 66ms/epoch - 11ms/step\n",
            "Epoch 124/150\n",
            "6/6 - 0s - loss: 0.0054 - accuracy: 1.0000 - val_loss: 1.7416 - val_accuracy: 0.7152 - 63ms/epoch - 10ms/step\n",
            "Epoch 125/150\n",
            "6/6 - 0s - loss: 0.0128 - accuracy: 0.9940 - val_loss: 1.7595 - val_accuracy: 0.7061 - 49ms/epoch - 8ms/step\n",
            "Epoch 126/150\n",
            "6/6 - 0s - loss: 0.0096 - accuracy: 0.9970 - val_loss: 1.7903 - val_accuracy: 0.7030 - 53ms/epoch - 9ms/step\n",
            "Epoch 127/150\n",
            "6/6 - 0s - loss: 0.0040 - accuracy: 1.0000 - val_loss: 1.8062 - val_accuracy: 0.7030 - 51ms/epoch - 8ms/step\n",
            "Epoch 128/150\n",
            "6/6 - 0s - loss: 0.0047 - accuracy: 1.0000 - val_loss: 1.8049 - val_accuracy: 0.7091 - 60ms/epoch - 10ms/step\n",
            "Epoch 129/150\n",
            "6/6 - 0s - loss: 0.0056 - accuracy: 0.9970 - val_loss: 1.7851 - val_accuracy: 0.7091 - 50ms/epoch - 8ms/step\n",
            "Epoch 130/150\n",
            "6/6 - 0s - loss: 0.0053 - accuracy: 1.0000 - val_loss: 1.7835 - val_accuracy: 0.7121 - 69ms/epoch - 12ms/step\n",
            "Epoch 131/150\n",
            "6/6 - 0s - loss: 0.0079 - accuracy: 0.9985 - val_loss: 1.7953 - val_accuracy: 0.7061 - 51ms/epoch - 8ms/step\n",
            "Epoch 132/150\n",
            "6/6 - 0s - loss: 0.0023 - accuracy: 1.0000 - val_loss: 1.8144 - val_accuracy: 0.7030 - 65ms/epoch - 11ms/step\n",
            "Epoch 133/150\n",
            "6/6 - 0s - loss: 0.0064 - accuracy: 1.0000 - val_loss: 1.8256 - val_accuracy: 0.7091 - 49ms/epoch - 8ms/step\n",
            "Epoch 134/150\n",
            "6/6 - 0s - loss: 0.0027 - accuracy: 1.0000 - val_loss: 1.8280 - val_accuracy: 0.7152 - 51ms/epoch - 9ms/step\n",
            "Epoch 135/150\n",
            "6/6 - 0s - loss: 0.0041 - accuracy: 1.0000 - val_loss: 1.8180 - val_accuracy: 0.7091 - 52ms/epoch - 9ms/step\n",
            "Epoch 136/150\n",
            "6/6 - 0s - loss: 0.0037 - accuracy: 1.0000 - val_loss: 1.8276 - val_accuracy: 0.7061 - 51ms/epoch - 8ms/step\n",
            "Epoch 137/150\n",
            "6/6 - 0s - loss: 0.0043 - accuracy: 1.0000 - val_loss: 1.8380 - val_accuracy: 0.7030 - 67ms/epoch - 11ms/step\n",
            "Epoch 138/150\n",
            "6/6 - 0s - loss: 0.0065 - accuracy: 0.9985 - val_loss: 1.8280 - val_accuracy: 0.7121 - 51ms/epoch - 8ms/step\n",
            "Epoch 139/150\n",
            "6/6 - 0s - loss: 0.0051 - accuracy: 0.9985 - val_loss: 1.8454 - val_accuracy: 0.7061 - 63ms/epoch - 10ms/step\n",
            "Epoch 140/150\n",
            "6/6 - 0s - loss: 0.0094 - accuracy: 0.9955 - val_loss: 1.9049 - val_accuracy: 0.7121 - 51ms/epoch - 8ms/step\n",
            "Epoch 141/150\n",
            "6/6 - 0s - loss: 0.0028 - accuracy: 1.0000 - val_loss: 1.9543 - val_accuracy: 0.7091 - 67ms/epoch - 11ms/step\n",
            "Epoch 142/150\n",
            "6/6 - 0s - loss: 0.0026 - accuracy: 1.0000 - val_loss: 1.9708 - val_accuracy: 0.7212 - 55ms/epoch - 9ms/step\n",
            "Epoch 143/150\n",
            "6/6 - 0s - loss: 0.0059 - accuracy: 0.9985 - val_loss: 1.9512 - val_accuracy: 0.7242 - 49ms/epoch - 8ms/step\n",
            "Epoch 144/150\n",
            "6/6 - 0s - loss: 0.0058 - accuracy: 0.9970 - val_loss: 1.9172 - val_accuracy: 0.7242 - 51ms/epoch - 8ms/step\n",
            "Epoch 145/150\n",
            "6/6 - 0s - loss: 0.0071 - accuracy: 0.9970 - val_loss: 1.9047 - val_accuracy: 0.7303 - 67ms/epoch - 11ms/step\n",
            "Epoch 146/150\n",
            "6/6 - 0s - loss: 0.0051 - accuracy: 0.9985 - val_loss: 1.9381 - val_accuracy: 0.7333 - 64ms/epoch - 11ms/step\n",
            "Epoch 147/150\n",
            "6/6 - 0s - loss: 0.0053 - accuracy: 0.9985 - val_loss: 1.9539 - val_accuracy: 0.7242 - 63ms/epoch - 11ms/step\n",
            "Epoch 148/150\n",
            "6/6 - 0s - loss: 0.0051 - accuracy: 1.0000 - val_loss: 1.9752 - val_accuracy: 0.7242 - 64ms/epoch - 11ms/step\n",
            "Epoch 149/150\n",
            "6/6 - 0s - loss: 0.0099 - accuracy: 0.9955 - val_loss: 1.9986 - val_accuracy: 0.7121 - 49ms/epoch - 8ms/step\n",
            "Epoch 150/150\n",
            "6/6 - 0s - loss: 0.0037 - accuracy: 1.0000 - val_loss: 2.0259 - val_accuracy: 0.7061 - 52ms/epoch - 9ms/step\n"
          ]
        }
      ]
    },
    {
      "cell_type": "code",
      "source": [
        "test_loss, test_acc = model.evaluate(x_test, y_test, batch_size=128)\n",
        "print (f\"\\nThe test loss is : {round(test_loss, 2)}\")\n",
        "print(f\"The best test accuracy is : {round(test_acc*100, 2)}%\")"
      ],
      "metadata": {
        "id": "UV7ntOxK6izc",
        "colab": {
          "base_uri": "https://localhost:8080/"
        },
        "outputId": "8b1eddbb-230e-4a91-a3ad-28fa8eb36fae"
      },
      "execution_count": 59,
      "outputs": [
        {
          "output_type": "stream",
          "name": "stdout",
          "text": [
            "3/3 [==============================] - 0s 5ms/step - loss: 2.0259 - accuracy: 0.7061\n",
            "\n",
            "The test loss is : 2.03\n",
            "The best test accuracy is : 70.61%\n"
          ]
        }
      ]
    },
    {
      "cell_type": "code",
      "source": [
        "model.summary()"
      ],
      "metadata": {
        "id": "NpVF7TOCN7c9",
        "colab": {
          "base_uri": "https://localhost:8080/"
        },
        "outputId": "41703780-d24e-4dbe-96c2-d7e06ed30b9d"
      },
      "execution_count": 56,
      "outputs": [
        {
          "output_type": "stream",
          "name": "stdout",
          "text": [
            "Model: \"sequential_3\"\n",
            "_________________________________________________________________\n",
            " Layer (type)                Output Shape              Param #   \n",
            "=================================================================\n",
            " dense_15 (Dense)            (None, 512)               38400     \n",
            "                                                                 \n",
            " dropout_12 (Dropout)        (None, 512)               0         \n",
            "                                                                 \n",
            " dense_16 (Dense)            (None, 256)               131328    \n",
            "                                                                 \n",
            " dropout_13 (Dropout)        (None, 256)               0         \n",
            "                                                                 \n",
            " dense_17 (Dense)            (None, 128)               32896     \n",
            "                                                                 \n",
            " dropout_14 (Dropout)        (None, 128)               0         \n",
            "                                                                 \n",
            " dense_18 (Dense)            (None, 64)                8256      \n",
            "                                                                 \n",
            " dropout_15 (Dropout)        (None, 64)                0         \n",
            "                                                                 \n",
            " flatten_3 (Flatten)         (None, 64)                0         \n",
            "                                                                 \n",
            " dense_19 (Dense)            (None, 10)                650       \n",
            "                                                                 \n",
            "=================================================================\n",
            "Total params: 211,530\n",
            "Trainable params: 211,530\n",
            "Non-trainable params: 0\n",
            "_________________________________________________________________\n"
          ]
        }
      ]
    },
    {
      "cell_type": "code",
      "source": [
        "def makeAudio_to_Data (path):\n",
        "\n",
        "  newDataframe = GenerateFeatures (path)\n",
        "\n",
        "  fit2 = StandardScaler()\n",
        "  numpyArray = fit2.fit_transform(np.array(newDataframe, dtype = float))\n",
        "\n",
        "  return numpyArray, newDataframe\n",
        "\n",
        "data, frame = makeAudio_to_Data ('/content/ambitionz az ridah.mkv')\n"
      ],
      "metadata": {
        "id": "hsZ5fDzLKgiI"
      },
      "execution_count": 67,
      "outputs": []
    },
    {
      "cell_type": "code",
      "source": [
        "arr = model.predict(data)\n",
        "lis = arr.tolist()\n",
        "print(genre[lis[0].index(max(lis[0]))].capitalize())"
      ],
      "metadata": {
        "colab": {
          "base_uri": "https://localhost:8080/"
        },
        "id": "-uvDdH7oK0B6",
        "outputId": "74008d21-38fc-40ae-dc23-a75a34d222ce"
      },
      "execution_count": 68,
      "outputs": [
        {
          "output_type": "stream",
          "name": "stdout",
          "text": [
            "Disco\n"
          ]
        }
      ]
    },
    {
      "cell_type": "code",
      "source": [
        "f30 = pd.read_csv(\"/content/features_30_sec.csv\")"
      ],
      "metadata": {
        "id": "6mDs8iypZ7qV"
      },
      "execution_count": 72,
      "outputs": []
    },
    {
      "cell_type": "code",
      "source": [
        "f30.sample()"
      ],
      "metadata": {
        "id": "aygKsHsiaKH2",
        "outputId": "a7f40cca-b303-4a23-87f2-c8f0eefcf2dd",
        "colab": {
          "base_uri": "https://localhost:8080/",
          "height": 174
        }
      },
      "execution_count": 73,
      "outputs": [
        {
          "output_type": "execute_result",
          "data": {
            "text/plain": [
              "           filename  length  chroma_stft_mean  chroma_stft_var  rms_mean  \\\n",
              "985  rock.00085.wav  661794           0.32172         0.088604  0.063006   \n",
              "\n",
              "      rms_var  spectral_centroid_mean  spectral_centroid_var  \\\n",
              "985  0.000876             2255.709364          532079.773017   \n",
              "\n",
              "     spectral_bandwidth_mean  spectral_bandwidth_var  ...  mfcc16_var  \\\n",
              "985              2057.933232           105722.924816  ...   93.243904   \n",
              "\n",
              "     mfcc17_mean  mfcc17_var  mfcc18_mean  mfcc18_var  mfcc19_mean  \\\n",
              "985    -8.971213  120.844284     6.871623  134.646729    -6.688627   \n",
              "\n",
              "     mfcc19_var  mfcc20_mean  mfcc20_var  label  \n",
              "985   84.300697    -1.209258  121.966843   rock  \n",
              "\n",
              "[1 rows x 60 columns]"
            ],
            "text/html": [
              "\n",
              "  <div id=\"df-532664ee-6368-4926-b739-385a9fa4bb7e\">\n",
              "    <div class=\"colab-df-container\">\n",
              "      <div>\n",
              "<style scoped>\n",
              "    .dataframe tbody tr th:only-of-type {\n",
              "        vertical-align: middle;\n",
              "    }\n",
              "\n",
              "    .dataframe tbody tr th {\n",
              "        vertical-align: top;\n",
              "    }\n",
              "\n",
              "    .dataframe thead th {\n",
              "        text-align: right;\n",
              "    }\n",
              "</style>\n",
              "<table border=\"1\" class=\"dataframe\">\n",
              "  <thead>\n",
              "    <tr style=\"text-align: right;\">\n",
              "      <th></th>\n",
              "      <th>filename</th>\n",
              "      <th>length</th>\n",
              "      <th>chroma_stft_mean</th>\n",
              "      <th>chroma_stft_var</th>\n",
              "      <th>rms_mean</th>\n",
              "      <th>rms_var</th>\n",
              "      <th>spectral_centroid_mean</th>\n",
              "      <th>spectral_centroid_var</th>\n",
              "      <th>spectral_bandwidth_mean</th>\n",
              "      <th>spectral_bandwidth_var</th>\n",
              "      <th>...</th>\n",
              "      <th>mfcc16_var</th>\n",
              "      <th>mfcc17_mean</th>\n",
              "      <th>mfcc17_var</th>\n",
              "      <th>mfcc18_mean</th>\n",
              "      <th>mfcc18_var</th>\n",
              "      <th>mfcc19_mean</th>\n",
              "      <th>mfcc19_var</th>\n",
              "      <th>mfcc20_mean</th>\n",
              "      <th>mfcc20_var</th>\n",
              "      <th>label</th>\n",
              "    </tr>\n",
              "  </thead>\n",
              "  <tbody>\n",
              "    <tr>\n",
              "      <th>985</th>\n",
              "      <td>rock.00085.wav</td>\n",
              "      <td>661794</td>\n",
              "      <td>0.32172</td>\n",
              "      <td>0.088604</td>\n",
              "      <td>0.063006</td>\n",
              "      <td>0.000876</td>\n",
              "      <td>2255.709364</td>\n",
              "      <td>532079.773017</td>\n",
              "      <td>2057.933232</td>\n",
              "      <td>105722.924816</td>\n",
              "      <td>...</td>\n",
              "      <td>93.243904</td>\n",
              "      <td>-8.971213</td>\n",
              "      <td>120.844284</td>\n",
              "      <td>6.871623</td>\n",
              "      <td>134.646729</td>\n",
              "      <td>-6.688627</td>\n",
              "      <td>84.300697</td>\n",
              "      <td>-1.209258</td>\n",
              "      <td>121.966843</td>\n",
              "      <td>rock</td>\n",
              "    </tr>\n",
              "  </tbody>\n",
              "</table>\n",
              "<p>1 rows × 60 columns</p>\n",
              "</div>\n",
              "      <button class=\"colab-df-convert\" onclick=\"convertToInteractive('df-532664ee-6368-4926-b739-385a9fa4bb7e')\"\n",
              "              title=\"Convert this dataframe to an interactive table.\"\n",
              "              style=\"display:none;\">\n",
              "        \n",
              "  <svg xmlns=\"http://www.w3.org/2000/svg\" height=\"24px\"viewBox=\"0 0 24 24\"\n",
              "       width=\"24px\">\n",
              "    <path d=\"M0 0h24v24H0V0z\" fill=\"none\"/>\n",
              "    <path d=\"M18.56 5.44l.94 2.06.94-2.06 2.06-.94-2.06-.94-.94-2.06-.94 2.06-2.06.94zm-11 1L8.5 8.5l.94-2.06 2.06-.94-2.06-.94L8.5 2.5l-.94 2.06-2.06.94zm10 10l.94 2.06.94-2.06 2.06-.94-2.06-.94-.94-2.06-.94 2.06-2.06.94z\"/><path d=\"M17.41 7.96l-1.37-1.37c-.4-.4-.92-.59-1.43-.59-.52 0-1.04.2-1.43.59L10.3 9.45l-7.72 7.72c-.78.78-.78 2.05 0 2.83L4 21.41c.39.39.9.59 1.41.59.51 0 1.02-.2 1.41-.59l7.78-7.78 2.81-2.81c.8-.78.8-2.07 0-2.86zM5.41 20L4 18.59l7.72-7.72 1.47 1.35L5.41 20z\"/>\n",
              "  </svg>\n",
              "      </button>\n",
              "      \n",
              "  <style>\n",
              "    .colab-df-container {\n",
              "      display:flex;\n",
              "      flex-wrap:wrap;\n",
              "      gap: 12px;\n",
              "    }\n",
              "\n",
              "    .colab-df-convert {\n",
              "      background-color: #E8F0FE;\n",
              "      border: none;\n",
              "      border-radius: 50%;\n",
              "      cursor: pointer;\n",
              "      display: none;\n",
              "      fill: #1967D2;\n",
              "      height: 32px;\n",
              "      padding: 0 0 0 0;\n",
              "      width: 32px;\n",
              "    }\n",
              "\n",
              "    .colab-df-convert:hover {\n",
              "      background-color: #E2EBFA;\n",
              "      box-shadow: 0px 1px 2px rgba(60, 64, 67, 0.3), 0px 1px 3px 1px rgba(60, 64, 67, 0.15);\n",
              "      fill: #174EA6;\n",
              "    }\n",
              "\n",
              "    [theme=dark] .colab-df-convert {\n",
              "      background-color: #3B4455;\n",
              "      fill: #D2E3FC;\n",
              "    }\n",
              "\n",
              "    [theme=dark] .colab-df-convert:hover {\n",
              "      background-color: #434B5C;\n",
              "      box-shadow: 0px 1px 3px 1px rgba(0, 0, 0, 0.15);\n",
              "      filter: drop-shadow(0px 1px 2px rgba(0, 0, 0, 0.3));\n",
              "      fill: #FFFFFF;\n",
              "    }\n",
              "  </style>\n",
              "\n",
              "      <script>\n",
              "        const buttonEl =\n",
              "          document.querySelector('#df-532664ee-6368-4926-b739-385a9fa4bb7e button.colab-df-convert');\n",
              "        buttonEl.style.display =\n",
              "          google.colab.kernel.accessAllowed ? 'block' : 'none';\n",
              "\n",
              "        async function convertToInteractive(key) {\n",
              "          const element = document.querySelector('#df-532664ee-6368-4926-b739-385a9fa4bb7e');\n",
              "          const dataTable =\n",
              "            await google.colab.kernel.invokeFunction('convertToInteractive',\n",
              "                                                     [key], {});\n",
              "          if (!dataTable) return;\n",
              "\n",
              "          const docLinkHtml = 'Like what you see? Visit the ' +\n",
              "            '<a target=\"_blank\" href=https://colab.research.google.com/notebooks/data_table.ipynb>data table notebook</a>'\n",
              "            + ' to learn more about interactive tables.';\n",
              "          element.innerHTML = '';\n",
              "          dataTable['output_type'] = 'display_data';\n",
              "          await google.colab.output.renderOutput(dataTable, element);\n",
              "          const docLink = document.createElement('div');\n",
              "          docLink.innerHTML = docLinkHtml;\n",
              "          element.appendChild(docLink);\n",
              "        }\n",
              "      </script>\n",
              "    </div>\n",
              "  </div>\n",
              "  "
            ]
          },
          "metadata": {},
          "execution_count": 73
        }
      ]
    }
  ],
  "metadata": {
    "interpreter": {
      "hash": "1baa965d5efe3ac65b79dfc60c0d706280b1da80fedb7760faf2759126c4f253"
    },
    "kernelspec": {
      "display_name": "Python 3.8.1 64-bit",
      "language": "python",
      "name": "python3"
    },
    "language_info": {
      "codemirror_mode": {
        "name": "ipython",
        "version": 3
      },
      "file_extension": ".py",
      "mimetype": "text/x-python",
      "name": "python",
      "nbconvert_exporter": "python",
      "pygments_lexer": "ipython3",
      "version": "3.8.1"
    },
    "orig_nbformat": 4,
    "colab": {
      "name": "Music_genre_.ipynb",
      "provenance": []
    },
    "accelerator": "GPU"
  },
  "nbformat": 4,
  "nbformat_minor": 0
}